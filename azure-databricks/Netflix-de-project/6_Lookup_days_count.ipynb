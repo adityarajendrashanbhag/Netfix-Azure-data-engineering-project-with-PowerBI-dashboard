{
 "cells": [
  {
   "cell_type": "code",
   "execution_count": 0,
   "metadata": {
    "application/vnd.databricks.v1+cell": {
     "cellMetadata": {
      "byteLimit": 2048000,
      "rowLimit": 10000
     },
     "inputWidgets": {},
     "nuid": "644664b6-6111-4c96-957b-7781503fbc0a",
     "showTitle": false,
     "tableResultSettingsMap": {},
     "title": ""
    }
   },
   "outputs": [
    {
     "output_type": "display_data",
     "data": {
      "text/plain": [
       "\u001B[0;31m---------------------------------------------------------------------------\u001B[0m\n",
       "\u001B[0;31mTypeError\u001B[0m                                 Traceback (most recent call last)\n",
       "File \u001B[0;32m<command-8498972848627637>, line 1\u001B[0m\n",
       "\u001B[0;32m----> 1\u001B[0m var1 \u001B[38;5;241m=\u001B[39m dbutils\u001B[38;5;241m.\u001B[39mjobs\u001B[38;5;241m.\u001B[39mtaskValues\u001B[38;5;241m.\u001B[39mget(taskKey\u001B[38;5;241m=\u001B[39m\u001B[38;5;124m\"\u001B[39m\u001B[38;5;124mWeekdayLookup\u001B[39m\u001B[38;5;124m\"\u001B[39m, key\u001B[38;5;241m=\u001B[39m\u001B[38;5;124m\"\u001B[39m\u001B[38;5;124mweekoutput\u001B[39m\u001B[38;5;124m\"\u001B[39m)\n",
       "\n",
       "File \u001B[0;32m/databricks/python_shell/lib/dbruntime/dbutils.py:218\u001B[0m, in \u001B[0;36mDBUtils.JobsHandler.TaskValuesHandler.get\u001B[0;34m(self, taskKey, key, default, debugValue)\u001B[0m\n",
       "\u001B[1;32m    216\u001B[0m \u001B[38;5;28;01melif\u001B[39;00m \u001B[38;5;124m'\u001B[39m\u001B[38;5;124mNotInJobContextException\u001B[39m\u001B[38;5;124m'\u001B[39m \u001B[38;5;129;01min\u001B[39;00m exceptionClassName:\n",
       "\u001B[1;32m    217\u001B[0m     \u001B[38;5;28;01mif\u001B[39;00m debugValue \u001B[38;5;129;01mis\u001B[39;00m \u001B[38;5;28;01mNone\u001B[39;00m:\n",
       "\u001B[0;32m--> 218\u001B[0m         \u001B[38;5;28;01mraise\u001B[39;00m \u001B[38;5;167;01mTypeError\u001B[39;00m(\n",
       "\u001B[1;32m    219\u001B[0m             \u001B[38;5;124m'\u001B[39m\u001B[38;5;124mMust pass debugValue when calling get outside of a job context. debugValue cannot be None.\u001B[39m\u001B[38;5;124m'\u001B[39m\n",
       "\u001B[1;32m    220\u001B[0m         ) \u001B[38;5;28;01mfrom\u001B[39;00m \u001B[38;5;28;01mNone\u001B[39;00m\n",
       "\u001B[1;32m    221\u001B[0m     \u001B[38;5;28;01mreturn\u001B[39;00m debugValue\n",
       "\u001B[1;32m    223\u001B[0m \u001B[38;5;28;01mraise\u001B[39;00m\n",
       "\n",
       "\u001B[0;31mTypeError\u001B[0m: Must pass debugValue when calling get outside of a job context. debugValue cannot be None."
      ]
     },
     "metadata": {
      "application/vnd.databricks.v1+output": {
       "addedWidgets": {},
       "arguments": {},
       "datasetInfos": [],
       "jupyterProps": {
        "ename": "TypeError",
        "evalue": "Must pass debugValue when calling get outside of a job context. debugValue cannot be None."
       },
       "metadata": {
        "errorSummary": "<span class='ansi-red-fg'>TypeError</span>: Must pass debugValue when calling get outside of a job context. debugValue cannot be None."
       },
       "removedWidgets": [],
       "sqlProps": null,
       "stackFrames": [
        "\u001B[0;31m---------------------------------------------------------------------------\u001B[0m",
        "\u001B[0;31mTypeError\u001B[0m                                 Traceback (most recent call last)",
        "File \u001B[0;32m<command-8498972848627637>, line 1\u001B[0m\n\u001B[0;32m----> 1\u001B[0m var1 \u001B[38;5;241m=\u001B[39m dbutils\u001B[38;5;241m.\u001B[39mjobs\u001B[38;5;241m.\u001B[39mtaskValues\u001B[38;5;241m.\u001B[39mget(taskKey\u001B[38;5;241m=\u001B[39m\u001B[38;5;124m\"\u001B[39m\u001B[38;5;124mWeekdayLookup\u001B[39m\u001B[38;5;124m\"\u001B[39m, key\u001B[38;5;241m=\u001B[39m\u001B[38;5;124m\"\u001B[39m\u001B[38;5;124mweekoutput\u001B[39m\u001B[38;5;124m\"\u001B[39m)\n",
        "File \u001B[0;32m/databricks/python_shell/lib/dbruntime/dbutils.py:218\u001B[0m, in \u001B[0;36mDBUtils.JobsHandler.TaskValuesHandler.get\u001B[0;34m(self, taskKey, key, default, debugValue)\u001B[0m\n\u001B[1;32m    216\u001B[0m \u001B[38;5;28;01melif\u001B[39;00m \u001B[38;5;124m'\u001B[39m\u001B[38;5;124mNotInJobContextException\u001B[39m\u001B[38;5;124m'\u001B[39m \u001B[38;5;129;01min\u001B[39;00m exceptionClassName:\n\u001B[1;32m    217\u001B[0m     \u001B[38;5;28;01mif\u001B[39;00m debugValue \u001B[38;5;129;01mis\u001B[39;00m \u001B[38;5;28;01mNone\u001B[39;00m:\n\u001B[0;32m--> 218\u001B[0m         \u001B[38;5;28;01mraise\u001B[39;00m \u001B[38;5;167;01mTypeError\u001B[39;00m(\n\u001B[1;32m    219\u001B[0m             \u001B[38;5;124m'\u001B[39m\u001B[38;5;124mMust pass debugValue when calling get outside of a job context. debugValue cannot be None.\u001B[39m\u001B[38;5;124m'\u001B[39m\n\u001B[1;32m    220\u001B[0m         ) \u001B[38;5;28;01mfrom\u001B[39;00m \u001B[38;5;28;01mNone\u001B[39;00m\n\u001B[1;32m    221\u001B[0m     \u001B[38;5;28;01mreturn\u001B[39;00m debugValue\n\u001B[1;32m    223\u001B[0m \u001B[38;5;28;01mraise\u001B[39;00m\n",
        "\u001B[0;31mTypeError\u001B[0m: Must pass debugValue when calling get outside of a job context. debugValue cannot be None."
       ],
       "type": "baseError"
      }
     },
     "output_type": "display_data"
    }
   ],
   "source": [
    "var1 = dbutils.jobs.taskValues.get(taskKey=\"Weekday_lookup\", key=\"weekoutput\")"
   ]
  },
  {
   "cell_type": "code",
   "execution_count": 0,
   "metadata": {
    "application/vnd.databricks.v1+cell": {
     "cellMetadata": {},
     "inputWidgets": {},
     "nuid": "aa0e4fd8-7f0a-4fe8-bb66-6f05d6fa63d5",
     "showTitle": false,
     "tableResultSettingsMap": {},
     "title": ""
    }
   },
   "outputs": [],
   "source": [
    "print(var1)"
   ]
  }
 ],
 "metadata": {
  "application/vnd.databricks.v1+notebook": {
   "computePreferences": null,
   "dashboards": [],
   "environmentMetadata": {
    "base_environment": "",
    "environment_version": "2"
   },
   "inputWidgetPreferences": null,
   "language": "python",
   "notebookMetadata": {
    "pythonIndentUnit": 4
   },
   "notebookName": "6_Lookup_days_count",
   "widgets": {}
  },
  "language_info": {
   "name": "python"
  }
 },
 "nbformat": 4,
 "nbformat_minor": 0
}