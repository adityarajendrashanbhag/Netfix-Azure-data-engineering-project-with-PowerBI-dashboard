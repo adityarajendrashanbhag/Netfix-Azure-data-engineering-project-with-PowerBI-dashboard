{
 "cells": [
  {
   "cell_type": "markdown",
   "metadata": {
    "application/vnd.databricks.v1+cell": {
     "cellMetadata": {},
     "inputWidgets": {},
     "nuid": "04e52c19-9ea0-4c30-9a07-25a7fe3c71cc",
     "showTitle": false,
     "tableResultSettingsMap": {},
     "title": ""
    }
   },
   "source": [
    "# Delta Notebook - Gold Layer"
   ]
  },
  {
   "cell_type": "code",
   "execution_count": 0,
   "metadata": {
    "application/vnd.databricks.v1+cell": {
     "cellMetadata": {
      "byteLimit": 2048000,
      "rowLimit": 10000
     },
     "inputWidgets": {},
     "nuid": "54b506e9-562a-40a7-8a26-f1b4e8def3f4",
     "showTitle": false,
     "tableResultSettingsMap": {},
     "title": ""
    }
   },
   "outputs": [],
   "source": [
    "import dlt\n",
    "from pyspark.sql.functions import *"
   ]
  },
  {
   "cell_type": "markdown",
   "metadata": {
    "application/vnd.databricks.v1+cell": {
     "cellMetadata": {},
     "inputWidgets": {},
     "nuid": "46d64a48-7f95-42f2-9732-ca2d0c3ec35b",
     "showTitle": false,
     "tableResultSettingsMap": {},
     "title": ""
    }
   },
   "source": [
    "Lookup tables"
   ]
  },
  {
   "cell_type": "code",
   "execution_count": 0,
   "metadata": {
    "application/vnd.databricks.v1+cell": {
     "cellMetadata": {},
     "inputWidgets": {},
     "nuid": "341624a5-cf66-456e-bf9c-1e573ba2f8ec",
     "showTitle": false,
     "tableResultSettingsMap": {},
     "title": ""
    }
   },
   "outputs": [],
   "source": [
    "lookup_tables_rules = {\n",
    "    \"rule1\" : \"show_id is NOT NULL\"\n",
    "}"
   ]
  },
  {
   "cell_type": "markdown",
   "metadata": {
    "application/vnd.databricks.v1+cell": {
     "cellMetadata": {},
     "inputWidgets": {},
     "nuid": "0866f9e3-a176-4959-9cd4-5a23911729ae",
     "showTitle": false,
     "tableResultSettingsMap": {},
     "title": ""
    }
   },
   "source": [
    "Gold Layer - Netflix Directors table"
   ]
  },
  {
   "cell_type": "code",
   "execution_count": 0,
   "metadata": {
    "application/vnd.databricks.v1+cell": {
     "cellMetadata": {},
     "inputWidgets": {},
     "nuid": "31cf628c-a967-490f-b368-876955054d49",
     "showTitle": false,
     "tableResultSettingsMap": {},
     "title": ""
    }
   },
   "outputs": [],
   "source": [
    "@dlt.table(\n",
    "  name = \"netflix_directors_gl\"\n",
    ")\n",
    "\n",
    "@dlt.expect_all_or_drop(lookup_tables_rules)\n",
    "def netflix_directors_gl():\n",
    "  netflix_directors_gl_df = spark.readStream.format('delta').load(\"abfss://silver-ma@netflixdataengstorage.dfs.core.windows.net/netflix_directors\")\n",
    "  return netflix_directors_gl_df"
   ]
  },
  {
   "cell_type": "markdown",
   "metadata": {
    "application/vnd.databricks.v1+cell": {
     "cellMetadata": {},
     "inputWidgets": {},
     "nuid": "bc3fb855-2b09-4b9e-b99e-3c587940b3eb",
     "showTitle": false,
     "tableResultSettingsMap": {},
     "title": ""
    }
   },
   "source": [
    "Gold Layer - Netflix Cast table"
   ]
  },
  {
   "cell_type": "code",
   "execution_count": 0,
   "metadata": {
    "application/vnd.databricks.v1+cell": {
     "cellMetadata": {},
     "inputWidgets": {},
     "nuid": "f2d2685f-c1dc-4ada-b581-d51334904075",
     "showTitle": false,
     "tableResultSettingsMap": {},
     "title": ""
    }
   },
   "outputs": [],
   "source": [
    "@dlt.table(\n",
    "  name = \"netflix_cast_gl\"\n",
    ")\n",
    "\n",
    "@dlt.expect_all_or_drop(lookup_tables_rules)\n",
    "def netflix_cast_gl():\n",
    "  netflix_cast_gl_df = spark.readStream.format('delta').load(\"abfss://silver-ma@netflixdataengstorage.dfs.core.windows.net/netflix_cast\")\n",
    "  return netflix_cast_gl_df"
   ]
  },
  {
   "cell_type": "markdown",
   "metadata": {
    "application/vnd.databricks.v1+cell": {
     "cellMetadata": {},
     "inputWidgets": {},
     "nuid": "9dc00984-734c-4840-afe6-764aeb26a9ce",
     "showTitle": false,
     "tableResultSettingsMap": {},
     "title": ""
    }
   },
   "source": [
    "Gold Layer - Netflix Category table"
   ]
  },
  {
   "cell_type": "code",
   "execution_count": 0,
   "metadata": {
    "application/vnd.databricks.v1+cell": {
     "cellMetadata": {},
     "inputWidgets": {},
     "nuid": "7d387dad-d268-4697-b662-c2c7f0931cf0",
     "showTitle": false,
     "tableResultSettingsMap": {},
     "title": ""
    }
   },
   "outputs": [],
   "source": [
    "@dlt.table(\n",
    "  name = \"netflix_category_gl\"\n",
    ")\n",
    "\n",
    "@dlt.expect_all_or_drop(lookup_tables_rules)\n",
    "def netflix_category_gl():\n",
    "  netflix_category_gl_df = spark.readStream.format('delta').load(\"abfss://silver-ma@netflixdataengstorage.dfs.core.windows.net/netflix_category\")\n",
    "  return netflix_category_gl_df"
   ]
  },
  {
   "cell_type": "markdown",
   "metadata": {
    "application/vnd.databricks.v1+cell": {
     "cellMetadata": {},
     "inputWidgets": {},
     "nuid": "f7996468-b227-4f31-a6a5-dc100f05184e",
     "showTitle": false,
     "tableResultSettingsMap": {},
     "title": ""
    }
   },
   "source": [
    "Gold Layer - Netflix Countries table"
   ]
  },
  {
   "cell_type": "code",
   "execution_count": 0,
   "metadata": {
    "application/vnd.databricks.v1+cell": {
     "cellMetadata": {},
     "inputWidgets": {},
     "nuid": "3a1f3d28-5efa-4bba-b590-a7a015db15c8",
     "showTitle": false,
     "tableResultSettingsMap": {},
     "title": ""
    }
   },
   "outputs": [],
   "source": [
    "@dlt.table(\n",
    "  name = \"netflix_countries_gl\"\n",
    ")\n",
    "\n",
    "def netflix_countries_gl():\n",
    "  netflix_countries_gl_df = spark.readStream.format('delta').load(\"abfss://silver-ma@netflixdataengstorage.dfs.core.windows.net/netflix_countries\")\n",
    "  return netflix_countries_gl_df"
   ]
  },
  {
   "cell_type": "markdown",
   "metadata": {
    "application/vnd.databricks.v1+cell": {
     "cellMetadata": {},
     "inputWidgets": {},
     "nuid": "5a266488-4db5-4ccf-a16e-0a40e11d5d26",
     "showTitle": false,
     "tableResultSettingsMap": {},
     "title": ""
    }
   },
   "source": [
    "Gold Layer - Netflix Titles table (Staging, Transfformed and Final Table)"
   ]
  },
  {
   "cell_type": "markdown",
   "metadata": {
    "application/vnd.databricks.v1+cell": {
     "cellMetadata": {},
     "inputWidgets": {},
     "nuid": "b4d13a43-4751-4944-8c8d-4731298f15c9",
     "showTitle": false,
     "tableResultSettingsMap": {},
     "title": ""
    }
   },
   "source": [
    "Netflix Title Staging table"
   ]
  },
  {
   "cell_type": "code",
   "execution_count": 0,
   "metadata": {
    "application/vnd.databricks.v1+cell": {
     "cellMetadata": {},
     "inputWidgets": {},
     "nuid": "e2d2ad67-1020-4547-8b07-cc45edd61116",
     "showTitle": false,
     "tableResultSettingsMap": {},
     "title": ""
    }
   },
   "outputs": [],
   "source": [
    "@dlt.table(\n",
    "  name = \"gl_stg_netflix_titles\"\n",
    ")\n",
    "\n",
    "def gl_stg_netflix_titles():\n",
    "  netflix_titles_stg_gl_df = spark.readStream.format('delta').load(\"abfss://silver-ma@netflixdataengstorage.dfs.core.windows.net/netflix_titles\")\n",
    "  return netflix_titles_stg_gl_df"
   ]
  },
  {
   "cell_type": "markdown",
   "metadata": {
    "application/vnd.databricks.v1+cell": {
     "cellMetadata": {},
     "inputWidgets": {},
     "nuid": "cc31530d-2e38-4275-b8a8-069158aa7f0a",
     "showTitle": false,
     "tableResultSettingsMap": {},
     "title": ""
    }
   },
   "source": [
    "Netflix Title Transformed view"
   ]
  },
  {
   "cell_type": "code",
   "execution_count": 0,
   "metadata": {
    "application/vnd.databricks.v1+cell": {
     "cellMetadata": {},
     "inputWidgets": {},
     "nuid": "cb2df4e3-954b-430d-82d9-3d7d67e54273",
     "showTitle": false,
     "tableResultSettingsMap": {},
     "title": ""
    }
   },
   "outputs": [],
   "source": [
    "@dlt.view(\n",
    "  name = \"gl_transformed_netflix_titles\"\n",
    ")\n",
    "\n",
    "def gl_transformed_netflix_titles():\n",
    "  netflix_titles_trans_gl_df = spark.readStream.table(\"LIVE.gl_stg_netflix_titles\")\n",
    "  netflix_titles_trans_gl_df = netflix_titles_trans_gl_df.withColumn(\"new_date\", current_date()).withColumn(\"newflag\", lit(1))\n",
    "  return netflix_titles_trans_gl_df"
   ]
  },
  {
   "cell_type": "markdown",
   "metadata": {
    "application/vnd.databricks.v1+cell": {
     "cellMetadata": {},
     "inputWidgets": {},
     "nuid": "97e32250-36c9-4c9f-a68e-4eb7b4fd30e4",
     "showTitle": false,
     "tableResultSettingsMap": {},
     "title": ""
    }
   },
   "source": [
    "Netflix Title Final table"
   ]
  },
  {
   "cell_type": "code",
   "execution_count": 0,
   "metadata": {
    "application/vnd.databricks.v1+cell": {
     "cellMetadata": {},
     "inputWidgets": {},
     "nuid": "b586e3be-2dee-48be-b350-eb7b10d5cc12",
     "showTitle": false,
     "tableResultSettingsMap": {},
     "title": ""
    }
   },
   "outputs": [],
   "source": [
    "master_data_rules = {\n",
    "    \"rule1\" : \"newflag is NOT NULL\",\n",
    "    \"rule2\" : \"show_id is NOT NULL\"\n",
    "}"
   ]
  },
  {
   "cell_type": "code",
   "execution_count": 0,
   "metadata": {
    "application/vnd.databricks.v1+cell": {
     "cellMetadata": {},
     "inputWidgets": {},
     "nuid": "73c0c360-012d-4f51-8889-c0ceec1308df",
     "showTitle": false,
     "tableResultSettingsMap": {},
     "title": ""
    }
   },
   "outputs": [],
   "source": [
    "@dlt.table(\n",
    "  name = \"gl_final_netflix_titles\"\n",
    ")\n",
    "\n",
    "@dlt.expect_all_or_drop(master_data_rules)\n",
    "def gl_final_netflix_titles():\n",
    "  netflix_titles_final_gl_df = spark.readStream.table(\"LIVE.gl_transformed_netflix_titles\")\n",
    "  return netflix_titles_final_gl_df"
   ]
  },
  {
   "cell_type": "markdown",
   "metadata": {
    "application/vnd.databricks.v1+cell": {
     "cellMetadata": {},
     "inputWidgets": {},
     "nuid": "77175e40-772e-446a-8ed6-a90d5bd10211",
     "showTitle": false,
     "tableResultSettingsMap": {},
     "title": ""
    }
   },
   "source": [
    "Final Analytics Table"
   ]
  },
  {
   "cell_type": "code",
   "execution_count": 0,
   "metadata": {
    "application/vnd.databricks.v1+cell": {
     "cellMetadata": {},
     "inputWidgets": {},
     "nuid": "5775160d-6f56-4e97-95a5-cf3203a61e8c",
     "showTitle": false,
     "tableResultSettingsMap": {},
     "title": ""
    }
   },
   "outputs": [],
   "source": [
    "@dlt.table(\n",
    "  name = \"netflix_gl_analytics\"\n",
    ")\n",
    "\n",
    "def netflix_gl_analytics():\n",
    "\n",
    "    netflix_directors_gl_df = spark.read.format('delta').load(\"abfss://silver-ma@netflixdataengstorage.dfs.core.windows.net/netflix_directors\")\n",
    "    netflix_cast_gl_df = spark.read.format('delta').load(\"abfss://silver-ma@netflixdataengstorage.dfs.core.windows.net/netflix_cast\")\n",
    "    netflix_category_gl_df = spark.read.format('delta').load(\"abfss://silver-ma@netflixdataengstorage.dfs.core.windows.net/netflix_category\")\n",
    "    netflix_titles_gl_df = spark.read.format('delta').load(\"abfss://silver-ma@netflixdataengstorage.dfs.core.windows.net/netflix_titles\")\n",
    "    netflix_countries_gl_df = spark.read.format('delta').load(\"abfss://silver-ma@netflixdataengstorage.dfs.core.windows.net/netflix_countries\")\n",
    "\n",
    "    gold_layer_1_df = netflix_titles_gl_df.join(netflix_cast_gl_df, \"show_id\", \"left\")\n",
    "    gold_layer_2_df = gold_layer_1_df.join(netflix_directors_gl_df, \"show_id\", \"left\")\n",
    "    gold_layer_3_df = gold_layer_2_df.join(netflix_category_gl_df, \"show_id\", \"left\")\n",
    "    gold_layer_joins_df = gold_layer_3_df.join(netflix_countries_gl_df, \"show_id\", \"left\")\n",
    "\n",
    "    return gold_layer_joins_df"
   ]
  }
 ],
 "metadata": {
  "application/vnd.databricks.v1+notebook": {
   "computePreferences": null,
   "dashboards": [],
   "environmentMetadata": {
    "base_environment": "",
    "environment_version": "2"
   },
   "inputWidgetPreferences": null,
   "language": "python",
   "notebookMetadata": {
    "mostRecentlyExecutedCommandWithImplicitDF": {
     "commandId": 6393121325656759,
     "dataframes": [
      "_sqldf"
     ]
    },
    "pythonIndentUnit": 4
   },
   "notebookName": "7_Delta_live_Notebook",
   "widgets": {}
  },
  "language_info": {
   "name": "python"
  }
 },
 "nbformat": 4,
 "nbformat_minor": 0
}